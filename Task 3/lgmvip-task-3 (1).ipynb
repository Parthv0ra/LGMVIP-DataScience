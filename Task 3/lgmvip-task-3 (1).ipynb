{
 "cells": [
  {
   "cell_type": "markdown",
   "metadata": {
    "id": "AmNndvYCF9A5"
   },
   "source": [
    "# LGMVIP Data Science Internship January 2022\n",
    "\n",
    "# Task 3 - Develop A Neural Network That Can Read Handwriting\n",
    "\n",
    "# Author - PARTH VORA"
   ]
  },
  {
   "cell_type": "markdown",
   "metadata": {
    "id": "Lq9ZfldB8NL3"
   },
   "source": [
    "## Test Harness Function"
   ]
  },
  {
   "cell_type": "code",
   "execution_count": 1,
   "metadata": {
    "execution": {
     "iopub.execute_input": "2022-01-10T08:31:32.531707Z",
     "iopub.status.busy": "2022-01-10T08:31:32.531312Z",
     "iopub.status.idle": "2022-01-10T08:31:32.541949Z",
     "shell.execute_reply": "2022-01-10T08:31:32.540938Z",
     "shell.execute_reply.started": "2022-01-10T08:31:32.531648Z"
    },
    "id": "4V0rMbq3sAcT"
   },
   "outputs": [],
   "source": [
    "\n",
    "# run the test harness for evaluating a model\n",
    "def run_test_harness():\n",
    "    # load dataset\n",
    "    trainX, trainY, testX, testY = load_dataset()\n",
    "    # prepare pixel data\n",
    "    trainX, testX = prep_pixels(trainX, testX)\n",
    "    # evaluate model\n",
    "    scores, histories = evaluate_model(trainX, trainY)\n",
    "    # learning curves\n",
    "    summarize_diagnostics(histories)\n",
    "    # summarize estimated performance\n",
    "    summarize_performance(scores)"
   ]
  },
  {
   "cell_type": "markdown",
   "metadata": {
    "id": "U0buKruW80pm"
   },
   "source": [
    "## Main body functions"
   ]
  },
  {
   "cell_type": "markdown",
   "metadata": {
    "id": "5fU515BQ86Em"
   },
   "source": [
    "### Importing the required libraries"
   ]
  },
  {
   "cell_type": "code",
   "execution_count": 2,
   "metadata": {
    "execution": {
     "iopub.execute_input": "2022-01-10T08:31:32.546592Z",
     "iopub.status.busy": "2022-01-10T08:31:32.546155Z",
     "iopub.status.idle": "2022-01-10T08:31:32.554286Z",
     "shell.execute_reply": "2022-01-10T08:31:32.553499Z",
     "shell.execute_reply.started": "2022-01-10T08:31:32.546548Z"
    },
    "id": "p2ghDpgZ9Ai-"
   },
   "outputs": [],
   "source": [
    "from numpy import mean\n",
    "from numpy import std\n",
    "from matplotlib import pyplot as plt\n",
    "from sklearn.model_selection import KFold\n",
    "from tensorflow.keras.datasets import mnist\n",
    "from tensorflow.keras.utils import to_categorical\n",
    "from tensorflow.keras.models import Sequential\n",
    "from tensorflow.keras.layers import Conv2D\n",
    "from tensorflow.keras.layers import MaxPooling2D\n",
    "from tensorflow.keras.layers import Dense\n",
    "from tensorflow.keras.layers import Flatten\n",
    "from tensorflow.keras.optimizers import SGD"
   ]
  },
  {
   "cell_type": "markdown",
   "metadata": {
    "id": "VNRN2okD9FLo"
   },
   "source": [
    "### Load train and test dataset from the MNIST dataset"
   ]
  },
  {
   "cell_type": "code",
   "execution_count": 3,
   "metadata": {
    "execution": {
     "iopub.execute_input": "2022-01-10T08:31:32.555807Z",
     "iopub.status.busy": "2022-01-10T08:31:32.555449Z",
     "iopub.status.idle": "2022-01-10T08:31:32.564564Z",
     "shell.execute_reply": "2022-01-10T08:31:32.563785Z",
     "shell.execute_reply.started": "2022-01-10T08:31:32.555768Z"
    },
    "id": "DxGBOtd-9LiQ"
   },
   "outputs": [],
   "source": [
    "# load train and test dataset\n",
    "def load_dataset():\n",
    "    # load dataset\n",
    "    (trainX, trainY), (testX, testY) = mnist.load_data()\n",
    "    # reshape dataset to have a single channel\n",
    "    trainX = trainX.reshape((trainX.shape[0], 28, 28, 1))\n",
    "    testX = testX.reshape((testX.shape[0], 28, 28, 1))\n",
    "    # one hot encode target values\n",
    "    trainY = to_categorical(trainY)\n",
    "    testY = to_categorical(testY)\n",
    "    return trainX, trainY, testX, testY"
   ]
  },
  {
   "cell_type": "markdown",
   "metadata": {
    "id": "DWnBvAYx9Pqf"
   },
   "source": [
    "### Scale the pixels"
   ]
  },
  {
   "cell_type": "code",
   "execution_count": 4,
   "metadata": {
    "execution": {
     "iopub.execute_input": "2022-01-10T08:31:32.566220Z",
     "iopub.status.busy": "2022-01-10T08:31:32.565930Z",
     "iopub.status.idle": "2022-01-10T08:31:32.575737Z",
     "shell.execute_reply": "2022-01-10T08:31:32.574967Z",
     "shell.execute_reply.started": "2022-01-10T08:31:32.566190Z"
    },
    "id": "98IWJ4lM9SbG"
   },
   "outputs": [],
   "source": [
    "# scale pixels\n",
    "def prep_pixels(train, test):\n",
    "    # convert from integers to floats\n",
    "    train_norm = train.astype('float32')\n",
    "    test_norm = test.astype('float32')\n",
    "    # normalize to range 0-1\n",
    "    train_norm = train_norm / 255.0\n",
    "    test_norm = test_norm / 255.0\n",
    "    # return normalized images\n",
    "    return train_norm, test_norm"
   ]
  },
  {
   "cell_type": "markdown",
   "metadata": {
    "id": "Al98gC4R9Wcs"
   },
   "source": [
    "### Define the CNN model"
   ]
  },
  {
   "cell_type": "code",
   "execution_count": 5,
   "metadata": {
    "execution": {
     "iopub.execute_input": "2022-01-10T08:31:32.577322Z",
     "iopub.status.busy": "2022-01-10T08:31:32.576955Z",
     "iopub.status.idle": "2022-01-10T08:31:32.586684Z",
     "shell.execute_reply": "2022-01-10T08:31:32.585625Z",
     "shell.execute_reply.started": "2022-01-10T08:31:32.577283Z"
    },
    "id": "nRPeZTB49YqW"
   },
   "outputs": [],
   "source": [
    "# define cnn model\n",
    "def define_model():\n",
    "    model = Sequential()\n",
    "    model.add(Conv2D(32, (3, 3), activation='relu', kernel_initializer='he_uniform', input_shape=(28, 28, 1)))\n",
    "    model.add(MaxPooling2D((2, 2)))\n",
    "    model.add(Flatten())\n",
    "    model.add(Dense(100, activation='relu', kernel_initializer='he_uniform'))\n",
    "    model.add(Dense(10, activation='softmax'))\n",
    "    # compile model\n",
    "    opt = SGD(learning_rate=0.01, momentum=0.9)\n",
    "    model.compile(optimizer=opt, loss='categorical_crossentropy', metrics=['accuracy'])\n",
    "    return model"
   ]
  },
  {
   "cell_type": "markdown",
   "metadata": {
    "id": "hMhOzIVV9g7u"
   },
   "source": [
    "### Evaluate the model using k-fold cross-validation"
   ]
  },
  {
   "cell_type": "code",
   "execution_count": 6,
   "metadata": {
    "execution": {
     "iopub.execute_input": "2022-01-10T08:31:32.588230Z",
     "iopub.status.busy": "2022-01-10T08:31:32.587880Z",
     "iopub.status.idle": "2022-01-10T08:31:32.599810Z",
     "shell.execute_reply": "2022-01-10T08:31:32.599023Z",
     "shell.execute_reply.started": "2022-01-10T08:31:32.588189Z"
    },
    "id": "Avjkmn2f9mos"
   },
   "outputs": [],
   "source": [
    "def evaluate_model(dataX, dataY, n_folds=5):\n",
    "    scores, histories = list(), list()\n",
    "    # prepare cross validation\n",
    "    kfold = KFold(n_folds, shuffle=True, random_state=1)\n",
    "    # enumerate splits\n",
    "    for train_ix, test_ix in kfold.split(dataX):\n",
    "        # define model\n",
    "        model = define_model()\n",
    "        # select rows for train and test\n",
    "        trainX, trainY, testX, testY = dataX[train_ix], dataY[train_ix], dataX[test_ix], dataY[test_ix]\n",
    "        # fit model\n",
    "        history = model.fit(trainX, trainY, epochs=10, batch_size=32, validation_data=(testX, testY), verbose=0)\n",
    "        # evaluate model\n",
    "        _, acc = model.evaluate(testX, testY, verbose=0)\n",
    "        print('> %.3f' % (acc * 100.0))\n",
    "        # stores scores\n",
    "        scores.append(acc)\n",
    "        histories.append(history)\n",
    "    return scores, histories"
   ]
  },
  {
   "cell_type": "markdown",
   "metadata": {
    "id": "x4ca6owO9qdf"
   },
   "source": [
    "### Plotting the learning curve"
   ]
  },
  {
   "cell_type": "code",
   "execution_count": 7,
   "metadata": {
    "execution": {
     "iopub.execute_input": "2022-01-10T08:31:32.601885Z",
     "iopub.status.busy": "2022-01-10T08:31:32.601565Z",
     "iopub.status.idle": "2022-01-10T08:31:32.611111Z",
     "shell.execute_reply": "2022-01-10T08:31:32.609926Z",
     "shell.execute_reply.started": "2022-01-10T08:31:32.601845Z"
    },
    "id": "eYLmpXh39trI"
   },
   "outputs": [],
   "source": [
    "# plot diagnostic learning curves\n",
    "def summarize_diagnostics(histories):\n",
    "    for i in range(len(histories)):\n",
    "        # plot loss\n",
    "        plt.subplot(2, 1, 1)\n",
    "        plt.title('Cross Entropy Loss')\n",
    "        plt.plot(histories[i].history['loss'], color='blue', label='train')\n",
    "        plt.plot(histories[i].history['val_loss'], color='orange', label='test')\n",
    "        # plot accuracy\n",
    "        plt.subplot(2, 1, 2)\n",
    "        plt.title('Classification Accuracy')\n",
    "        plt.plot(histories[i].history['accuracy'], color='blue', label='train')\n",
    "        plt.plot(histories[i].history['val_accuracy'], color='orange', label='test')\n",
    "    plt.show()"
   ]
  },
  {
   "cell_type": "markdown",
   "metadata": {
    "id": "6ZYcIbPl9wT3"
   },
   "source": [
    "### Summarize the model performance"
   ]
  },
  {
   "cell_type": "code",
   "execution_count": 8,
   "metadata": {
    "execution": {
     "iopub.execute_input": "2022-01-10T08:31:32.613272Z",
     "iopub.status.busy": "2022-01-10T08:31:32.612918Z",
     "iopub.status.idle": "2022-01-10T08:31:32.621182Z",
     "shell.execute_reply": "2022-01-10T08:31:32.620449Z",
     "shell.execute_reply.started": "2022-01-10T08:31:32.613232Z"
    },
    "id": "Gzo3oGr_90px"
   },
   "outputs": [],
   "source": [
    "def summarize_performance(scores):\n",
    "    # print summary\n",
    "    print('Accuracy: mean=%.3f std=%.3f, n=%d' % (mean(scores)*100, std(scores)*100, len(scores)))\n",
    "    # box and whisker plots of results\n",
    "    plt.boxplot(scores)\n",
    "    plt.show()"
   ]
  },
  {
   "cell_type": "markdown",
   "metadata": {
    "id": "yYvOiz0499YV"
   },
   "source": [
    "### Running the test harness"
   ]
  },
  {
   "cell_type": "code",
   "execution_count": 9,
   "metadata": {
    "execution": {
     "iopub.execute_input": "2022-01-10T08:31:32.623719Z",
     "iopub.status.busy": "2022-01-10T08:31:32.622191Z",
     "iopub.status.idle": "2022-01-10T08:34:32.206740Z",
     "shell.execute_reply": "2022-01-10T08:34:32.205575Z",
     "shell.execute_reply.started": "2022-01-10T08:31:32.623679Z"
    },
    "id": "7QwRAC_B9_4U",
    "outputId": "f7baae50-a7cb-42aa-90ac-5cf1844059cc"
   },
   "outputs": [
    {
     "name": "stdout",
     "output_type": "stream",
     "text": [
      "> 98.600\n",
      "> 98.633\n",
      "> 98.550\n",
      "> 98.883\n",
      "> 98.783\n"
     ]
    },
    {
     "name": "stderr",
     "output_type": "stream",
     "text": [
      "<ipython-input-7-9282bb3d94e0>:5: MatplotlibDeprecationWarning: Adding an axes using the same arguments as a previous axes currently reuses the earlier instance.  In a future version, a new instance will always be created and returned.  Meanwhile, this warning can be suppressed, and the future behavior ensured, by passing a unique label to each axes instance.\n",
      "  plt.subplot(2, 1, 1)\n",
      "<ipython-input-7-9282bb3d94e0>:10: MatplotlibDeprecationWarning: Adding an axes using the same arguments as a previous axes currently reuses the earlier instance.  In a future version, a new instance will always be created and returned.  Meanwhile, this warning can be suppressed, and the future behavior ensured, by passing a unique label to each axes instance.\n",
      "  plt.subplot(2, 1, 2)\n"
     ]
    },
    {
     "data": {
      "image/png": "[encoded data removed]",
      "text/plain": [
       "<Figure size 432x288 with 2 Axes>"
      ]
     },
     "metadata": {
      "needs_background": "light"
     },
     "output_type": "display_data"
    },
    {
     "name": "stdout",
     "output_type": "stream",
     "text": [
      "Accuracy: mean=98.690 std=0.124, n=5\n"
     ]
    },
    {
     "data": {
      "image/png": "[encoded data removed]",
      "text/plain": [
       "<Figure size 432x288 with 1 Axes>"
      ]
     },
     "metadata": {
      "needs_background": "light"
     },
     "output_type": "display_data"
    }
   ],
   "source": [
    "run_test_harness()"
   ]
  },
  {
   "cell_type": "markdown",
   "metadata": {
    "id": "oJFUizpBDoaC"
   },
   "source": [
    "# We can see the accuracy graph steadily increased at some point and then gradually increased.\n",
    "\n",
    "# Mean Accuracy - approx 98.69%"
   ]
  },
  {
   "cell_type": "code",
   "execution_count": null,
   "metadata": {},
   "outputs": [],
   "source": []
  }
 ],
 "metadata": {
  "kernelspec": {
   "display_name": "Python 3",
   "language": "python",
   "name": "python3"
  },
  "language_info": {
   "codemirror_mode": {
    "name": "ipython",
    "version": 3
   },
   "file_extension": ".py",
   "mimetype": "text/x-python",
   "name": "python",
   "nbconvert_exporter": "python",
   "pygments_lexer": "ipython3",
   "version": "3.8.8"
  }
 },
 "nbformat": 4,
 "nbformat_minor": 4
}
